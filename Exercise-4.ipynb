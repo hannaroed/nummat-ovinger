{
 "cells": [
  {
   "cell_type": "markdown",
   "metadata": {},
   "source": [
    "## TMA4215 - Exercise 4 ## \n",
    "*Group: Hanna Heshmati Rød, Karine Austbø Grande and Thea Boge*"
   ]
  },
  {
   "cell_type": "markdown",
   "metadata": {},
   "source": [
    "#### Problem 1\n",
    "\n",
    "We ha e the Rosenbrock function $F: \\mathbb{R}^{2} -> \\mathbb{R}$ defined as:\n",
    "\n",
    "$$\n",
    "F(x_{1}, x_{2}) = 100(x_{2} - x_{1}^{2})^{2} + (1-x_{1})^{2}\n",
    "$$\n",
    "\n",
    "Finding the gradients:\n",
    "\n",
    "$$\n",
    "F_{x_{1}} = 400 x_{1}^{2} - 400x_{2} + 2 x_{1}-2\n",
    "$$\n",
    "\n",
    "$$\n",
    "F_{x_{2}} = 200(x_{2} - x_{1}^{2})\n",
    "$$\n",
    "\n",
    "$$\n",
    "F_{x_{1}x_{1}} = 800x_{1} + 2\n",
    "$$\n",
    "\n",
    "$$\n",
    "F_{x_{1}x_{2}} = -400\n",
    "$$\n",
    "\n",
    "$$\n",
    "F_{x_{2}x_{2}} = 200\n",
    "$$\n",
    "\n",
    "$$\n",
    "F_{x_{2}x_{1}} = -400x_{1}\n",
    "$$\n",
    "\n",
    "The Hessian matrix is the defined as\n",
    "\n",
    "$$\n",
    "\n",
    "HF(x_1, x_2) = \\begin{bmatrix} \n",
    "800x_1 + 2 & -400x_1 \\\\ \n",
    "-400 & 200 \n",
    "\\end{bmatrix}\n",
    "\n",
    "$$"
   ]
  },
  {
   "cell_type": "markdown",
   "metadata": {},
   "source": []
  }
 ],
 "metadata": {
  "language_info": {
   "name": "python"
  }
 },
 "nbformat": 4,
 "nbformat_minor": 2
}
